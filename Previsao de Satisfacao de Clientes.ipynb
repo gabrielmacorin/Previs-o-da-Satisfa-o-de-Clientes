{
 "cells": [
  {
   "cell_type": "markdown",
   "metadata": {},
   "source": [
    "## Definição do Problema de Negócio"
   ]
  },
  {
   "cell_type": "markdown",
   "metadata": {},
   "source": [
    "A satisfação do cliente é uma medida fundamental de sucesso. Clientes \n",
    "insatisfeitos cancelam seus serviços e raramente expressam sua insatisfação antes \n",
    "de sair. Clientes satisfeitos, por outro lado, se tornam defensores da marca!\n",
    "O Banco Santander está pedindo para ajudá-los a identificar clientes \n",
    "insatisfeitos no início do relacionamento. Isso permitiria que o Santander \n",
    "adotasse medidas proativas para melhorar a felicidade de um cliente antes que \n",
    "seja tarde demais.\n",
    "Neste projeto de aprendizado de máquina, você trabalhará com centenas \n",
    "de recursos anônimos para prever se um cliente está satisfeito ou insatisfeito com \n",
    "sua experiência bancária.\n",
    "Defina claramente o problema de negócio, faça a coleta e preparo dos \n",
    "dados, escolha um algoritmo, treine o modelo e avalie a acurácia, que deve ser de \n",
    "pelo menos 70%."
   ]
  },
  {
   "cell_type": "markdown",
   "metadata": {},
   "source": [
    "## Bibliotecas"
   ]
  },
  {
   "cell_type": "code",
   "execution_count": 1,
   "metadata": {},
   "outputs": [],
   "source": [
    "# pip install imblearn"
   ]
  },
  {
   "cell_type": "code",
   "execution_count": 2,
   "metadata": {},
   "outputs": [],
   "source": [
    "import pandas as pd\n",
    "import matplotlib.pyplot as plt\n",
    "import seaborn as sns\n",
    "import numpy as np\n",
    "import warnings\n",
    "import pickle\n",
    "from sklearn.decomposition import PCA\n",
    "from sklearn.pipeline import Pipeline\n",
    "from sklearn.model_selection import train_test_split\n",
    "from sklearn.preprocessing import MinMaxScaler\n",
    "from imblearn.under_sampling import NearMiss \n",
    "from imblearn.over_sampling import SMOTE\n",
    "from sklearn.model_selection import KFold\n",
    "from sklearn.model_selection import cross_validate\n",
    "from sklearn.linear_model import LogisticRegression\n",
    "from sklearn.tree import DecisionTreeClassifier\n",
    "from sklearn.ensemble import RandomForestClassifier\n",
    "from sklearn.neighbors import KNeighborsClassifier\n",
    "from sklearn.discriminant_analysis import LinearDiscriminantAnalysis\n",
    "from sklearn.ensemble import ExtraTreesClassifier\n",
    "from sklearn.naive_bayes import GaussianNB\n",
    "from sklearn.svm import SVC\n",
    "from sklearn.model_selection import GridSearchCV\n",
    "from sklearn.pipeline import Pipeline\n",
    "from sklearn.metrics import classification_report, confusion_matrix\n",
    "from xgboost import XGBClassifier\n",
    "\n",
    "%matplotlib inline\n",
    "warnings.filterwarnings(\"ignore\")"
   ]
  },
  {
   "cell_type": "markdown",
   "metadata": {},
   "source": [
    "## Extraindo e Carregando os Dados"
   ]
  },
  {
   "cell_type": "code",
   "execution_count": 3,
   "metadata": {},
   "outputs": [],
   "source": [
    "train_data = pd.read_csv('train.csv')"
   ]
  },
  {
   "cell_type": "code",
   "execution_count": 4,
   "metadata": {},
   "outputs": [
    {
     "data": {
      "text/plain": [
       "(76020, 371)"
      ]
     },
     "execution_count": 4,
     "metadata": {},
     "output_type": "execute_result"
    }
   ],
   "source": [
    "train_data.shape"
   ]
  },
  {
   "cell_type": "code",
   "execution_count": 5,
   "metadata": {},
   "outputs": [
    {
     "data": {
      "text/plain": [
       "ID                                 int64\n",
       "var3                               int64\n",
       "var15                              int64\n",
       "imp_ent_var16_ult1               float64\n",
       "imp_op_var39_comer_ult1          float64\n",
       "imp_op_var39_comer_ult3          float64\n",
       "imp_op_var40_comer_ult1          float64\n",
       "imp_op_var40_comer_ult3          float64\n",
       "imp_op_var40_efect_ult1          float64\n",
       "imp_op_var40_efect_ult3          float64\n",
       "imp_op_var40_ult1                float64\n",
       "imp_op_var41_comer_ult1          float64\n",
       "imp_op_var41_comer_ult3          float64\n",
       "imp_op_var41_efect_ult1          float64\n",
       "imp_op_var41_efect_ult3          float64\n",
       "imp_op_var41_ult1                float64\n",
       "imp_op_var39_efect_ult1          float64\n",
       "imp_op_var39_efect_ult3          float64\n",
       "imp_op_var39_ult1                float64\n",
       "imp_sal_var16_ult1               float64\n",
       "ind_var1_0                         int64\n",
       "ind_var1                           int64\n",
       "ind_var2_0                         int64\n",
       "ind_var2                           int64\n",
       "ind_var5_0                         int64\n",
       "ind_var5                           int64\n",
       "ind_var6_0                         int64\n",
       "ind_var6                           int64\n",
       "ind_var8_0                         int64\n",
       "ind_var8                           int64\n",
       "                                  ...   \n",
       "saldo_medio_var13_corto_hace2    float64\n",
       "saldo_medio_var13_corto_hace3    float64\n",
       "saldo_medio_var13_corto_ult1     float64\n",
       "saldo_medio_var13_corto_ult3     float64\n",
       "saldo_medio_var13_largo_hace2    float64\n",
       "saldo_medio_var13_largo_hace3    float64\n",
       "saldo_medio_var13_largo_ult1     float64\n",
       "saldo_medio_var13_largo_ult3     float64\n",
       "saldo_medio_var13_medio_hace2    float64\n",
       "saldo_medio_var13_medio_hace3      int64\n",
       "saldo_medio_var13_medio_ult1       int64\n",
       "saldo_medio_var13_medio_ult3     float64\n",
       "saldo_medio_var17_hace2          float64\n",
       "saldo_medio_var17_hace3          float64\n",
       "saldo_medio_var17_ult1           float64\n",
       "saldo_medio_var17_ult3           float64\n",
       "saldo_medio_var29_hace2          float64\n",
       "saldo_medio_var29_hace3          float64\n",
       "saldo_medio_var29_ult1           float64\n",
       "saldo_medio_var29_ult3           float64\n",
       "saldo_medio_var33_hace2          float64\n",
       "saldo_medio_var33_hace3          float64\n",
       "saldo_medio_var33_ult1           float64\n",
       "saldo_medio_var33_ult3           float64\n",
       "saldo_medio_var44_hace2          float64\n",
       "saldo_medio_var44_hace3          float64\n",
       "saldo_medio_var44_ult1           float64\n",
       "saldo_medio_var44_ult3           float64\n",
       "var38                            float64\n",
       "TARGET                             int64\n",
       "Length: 371, dtype: object"
      ]
     },
     "execution_count": 5,
     "metadata": {},
     "output_type": "execute_result"
    }
   ],
   "source": [
    "train_data.dtypes"
   ]
  },
  {
   "cell_type": "code",
   "execution_count": 6,
   "metadata": {},
   "outputs": [
    {
     "data": {
      "text/html": [
       "<div>\n",
       "<style scoped>\n",
       "    .dataframe tbody tr th:only-of-type {\n",
       "        vertical-align: middle;\n",
       "    }\n",
       "\n",
       "    .dataframe tbody tr th {\n",
       "        vertical-align: top;\n",
       "    }\n",
       "\n",
       "    .dataframe thead th {\n",
       "        text-align: right;\n",
       "    }\n",
       "</style>\n",
       "<table border=\"1\" class=\"dataframe\">\n",
       "  <thead>\n",
       "    <tr style=\"text-align: right;\">\n",
       "      <th></th>\n",
       "      <th>ID</th>\n",
       "      <th>var3</th>\n",
       "      <th>var15</th>\n",
       "      <th>imp_ent_var16_ult1</th>\n",
       "      <th>imp_op_var39_comer_ult1</th>\n",
       "      <th>imp_op_var39_comer_ult3</th>\n",
       "      <th>imp_op_var40_comer_ult1</th>\n",
       "      <th>imp_op_var40_comer_ult3</th>\n",
       "      <th>imp_op_var40_efect_ult1</th>\n",
       "      <th>imp_op_var40_efect_ult3</th>\n",
       "      <th>...</th>\n",
       "      <th>saldo_medio_var33_hace2</th>\n",
       "      <th>saldo_medio_var33_hace3</th>\n",
       "      <th>saldo_medio_var33_ult1</th>\n",
       "      <th>saldo_medio_var33_ult3</th>\n",
       "      <th>saldo_medio_var44_hace2</th>\n",
       "      <th>saldo_medio_var44_hace3</th>\n",
       "      <th>saldo_medio_var44_ult1</th>\n",
       "      <th>saldo_medio_var44_ult3</th>\n",
       "      <th>var38</th>\n",
       "      <th>TARGET</th>\n",
       "    </tr>\n",
       "  </thead>\n",
       "  <tbody>\n",
       "    <tr>\n",
       "      <th>0</th>\n",
       "      <td>1</td>\n",
       "      <td>2</td>\n",
       "      <td>23</td>\n",
       "      <td>0.0</td>\n",
       "      <td>0.0</td>\n",
       "      <td>0.0</td>\n",
       "      <td>0.0</td>\n",
       "      <td>0.0</td>\n",
       "      <td>0.0</td>\n",
       "      <td>0.0</td>\n",
       "      <td>...</td>\n",
       "      <td>0.0</td>\n",
       "      <td>0.0</td>\n",
       "      <td>0.0</td>\n",
       "      <td>0.0</td>\n",
       "      <td>0.0</td>\n",
       "      <td>0.0</td>\n",
       "      <td>0.0</td>\n",
       "      <td>0.0</td>\n",
       "      <td>39205.170000</td>\n",
       "      <td>0</td>\n",
       "    </tr>\n",
       "    <tr>\n",
       "      <th>1</th>\n",
       "      <td>3</td>\n",
       "      <td>2</td>\n",
       "      <td>34</td>\n",
       "      <td>0.0</td>\n",
       "      <td>0.0</td>\n",
       "      <td>0.0</td>\n",
       "      <td>0.0</td>\n",
       "      <td>0.0</td>\n",
       "      <td>0.0</td>\n",
       "      <td>0.0</td>\n",
       "      <td>...</td>\n",
       "      <td>0.0</td>\n",
       "      <td>0.0</td>\n",
       "      <td>0.0</td>\n",
       "      <td>0.0</td>\n",
       "      <td>0.0</td>\n",
       "      <td>0.0</td>\n",
       "      <td>0.0</td>\n",
       "      <td>0.0</td>\n",
       "      <td>49278.030000</td>\n",
       "      <td>0</td>\n",
       "    </tr>\n",
       "    <tr>\n",
       "      <th>2</th>\n",
       "      <td>4</td>\n",
       "      <td>2</td>\n",
       "      <td>23</td>\n",
       "      <td>0.0</td>\n",
       "      <td>0.0</td>\n",
       "      <td>0.0</td>\n",
       "      <td>0.0</td>\n",
       "      <td>0.0</td>\n",
       "      <td>0.0</td>\n",
       "      <td>0.0</td>\n",
       "      <td>...</td>\n",
       "      <td>0.0</td>\n",
       "      <td>0.0</td>\n",
       "      <td>0.0</td>\n",
       "      <td>0.0</td>\n",
       "      <td>0.0</td>\n",
       "      <td>0.0</td>\n",
       "      <td>0.0</td>\n",
       "      <td>0.0</td>\n",
       "      <td>67333.770000</td>\n",
       "      <td>0</td>\n",
       "    </tr>\n",
       "    <tr>\n",
       "      <th>3</th>\n",
       "      <td>8</td>\n",
       "      <td>2</td>\n",
       "      <td>37</td>\n",
       "      <td>0.0</td>\n",
       "      <td>195.0</td>\n",
       "      <td>195.0</td>\n",
       "      <td>0.0</td>\n",
       "      <td>0.0</td>\n",
       "      <td>0.0</td>\n",
       "      <td>0.0</td>\n",
       "      <td>...</td>\n",
       "      <td>0.0</td>\n",
       "      <td>0.0</td>\n",
       "      <td>0.0</td>\n",
       "      <td>0.0</td>\n",
       "      <td>0.0</td>\n",
       "      <td>0.0</td>\n",
       "      <td>0.0</td>\n",
       "      <td>0.0</td>\n",
       "      <td>64007.970000</td>\n",
       "      <td>0</td>\n",
       "    </tr>\n",
       "    <tr>\n",
       "      <th>4</th>\n",
       "      <td>10</td>\n",
       "      <td>2</td>\n",
       "      <td>39</td>\n",
       "      <td>0.0</td>\n",
       "      <td>0.0</td>\n",
       "      <td>0.0</td>\n",
       "      <td>0.0</td>\n",
       "      <td>0.0</td>\n",
       "      <td>0.0</td>\n",
       "      <td>0.0</td>\n",
       "      <td>...</td>\n",
       "      <td>0.0</td>\n",
       "      <td>0.0</td>\n",
       "      <td>0.0</td>\n",
       "      <td>0.0</td>\n",
       "      <td>0.0</td>\n",
       "      <td>0.0</td>\n",
       "      <td>0.0</td>\n",
       "      <td>0.0</td>\n",
       "      <td>117310.979016</td>\n",
       "      <td>0</td>\n",
       "    </tr>\n",
       "  </tbody>\n",
       "</table>\n",
       "<p>5 rows × 371 columns</p>\n",
       "</div>"
      ],
      "text/plain": [
       "   ID  var3  var15  imp_ent_var16_ult1  imp_op_var39_comer_ult1  \\\n",
       "0   1     2     23                 0.0                      0.0   \n",
       "1   3     2     34                 0.0                      0.0   \n",
       "2   4     2     23                 0.0                      0.0   \n",
       "3   8     2     37                 0.0                    195.0   \n",
       "4  10     2     39                 0.0                      0.0   \n",
       "\n",
       "   imp_op_var39_comer_ult3  imp_op_var40_comer_ult1  imp_op_var40_comer_ult3  \\\n",
       "0                      0.0                      0.0                      0.0   \n",
       "1                      0.0                      0.0                      0.0   \n",
       "2                      0.0                      0.0                      0.0   \n",
       "3                    195.0                      0.0                      0.0   \n",
       "4                      0.0                      0.0                      0.0   \n",
       "\n",
       "   imp_op_var40_efect_ult1  imp_op_var40_efect_ult3  ...  \\\n",
       "0                      0.0                      0.0  ...   \n",
       "1                      0.0                      0.0  ...   \n",
       "2                      0.0                      0.0  ...   \n",
       "3                      0.0                      0.0  ...   \n",
       "4                      0.0                      0.0  ...   \n",
       "\n",
       "   saldo_medio_var33_hace2  saldo_medio_var33_hace3  saldo_medio_var33_ult1  \\\n",
       "0                      0.0                      0.0                     0.0   \n",
       "1                      0.0                      0.0                     0.0   \n",
       "2                      0.0                      0.0                     0.0   \n",
       "3                      0.0                      0.0                     0.0   \n",
       "4                      0.0                      0.0                     0.0   \n",
       "\n",
       "   saldo_medio_var33_ult3  saldo_medio_var44_hace2  saldo_medio_var44_hace3  \\\n",
       "0                     0.0                      0.0                      0.0   \n",
       "1                     0.0                      0.0                      0.0   \n",
       "2                     0.0                      0.0                      0.0   \n",
       "3                     0.0                      0.0                      0.0   \n",
       "4                     0.0                      0.0                      0.0   \n",
       "\n",
       "   saldo_medio_var44_ult1  saldo_medio_var44_ult3          var38  TARGET  \n",
       "0                     0.0                     0.0   39205.170000       0  \n",
       "1                     0.0                     0.0   49278.030000       0  \n",
       "2                     0.0                     0.0   67333.770000       0  \n",
       "3                     0.0                     0.0   64007.970000       0  \n",
       "4                     0.0                     0.0  117310.979016       0  \n",
       "\n",
       "[5 rows x 371 columns]"
      ]
     },
     "execution_count": 6,
     "metadata": {},
     "output_type": "execute_result"
    }
   ],
   "source": [
    "train_data.head()"
   ]
  },
  {
   "cell_type": "markdown",
   "metadata": {},
   "source": [
    "## Análise Exploratória de Dados"
   ]
  },
  {
   "cell_type": "code",
   "execution_count": 7,
   "metadata": {},
   "outputs": [
    {
     "data": {
      "text/plain": [
       "array([0, 0, 0, 0, 0, 0, 0, 0, 0, 0, 0, 0, 0, 0, 0, 0, 0, 0, 0, 0, 0, 0,\n",
       "       0, 0, 0, 0, 0, 0, 0, 0, 0, 0, 0, 0, 0, 0, 0, 0, 0, 0, 0, 0, 0, 0,\n",
       "       0, 0, 0, 0, 0, 0, 0, 0, 0, 0, 0, 0, 0, 0, 0, 0, 0, 0, 0, 0, 0, 0,\n",
       "       0, 0, 0, 0, 0, 0, 0, 0, 0, 0, 0, 0, 0, 0, 0, 0, 0, 0, 0, 0, 0, 0,\n",
       "       0, 0, 0, 0, 0, 0, 0, 0, 0, 0, 0, 0, 0, 0, 0, 0, 0, 0, 0, 0, 0, 0,\n",
       "       0, 0, 0, 0, 0, 0, 0, 0, 0, 0, 0, 0, 0, 0, 0, 0, 0, 0, 0, 0, 0, 0,\n",
       "       0, 0, 0, 0, 0, 0, 0, 0, 0, 0, 0, 0, 0, 0, 0, 0, 0, 0, 0, 0, 0, 0,\n",
       "       0, 0, 0, 0, 0, 0, 0, 0, 0, 0, 0, 0, 0, 0, 0, 0, 0, 0, 0, 0, 0, 0,\n",
       "       0, 0, 0, 0, 0, 0, 0, 0, 0, 0, 0, 0, 0, 0, 0, 0, 0, 0, 0, 0, 0, 0,\n",
       "       0, 0, 0, 0, 0, 0, 0, 0, 0, 0, 0, 0, 0, 0, 0, 0, 0, 0, 0, 0, 0, 0,\n",
       "       0, 0, 0, 0, 0, 0, 0, 0, 0, 0, 0, 0, 0, 0, 0, 0, 0, 0, 0, 0, 0, 0,\n",
       "       0, 0, 0, 0, 0, 0, 0, 0, 0, 0, 0, 0, 0, 0, 0, 0, 0, 0, 0, 0, 0, 0,\n",
       "       0, 0, 0, 0, 0, 0, 0, 0, 0, 0, 0, 0, 0, 0, 0, 0, 0, 0, 0, 0, 0, 0,\n",
       "       0, 0, 0, 0, 0, 0, 0, 0, 0, 0, 0, 0, 0, 0, 0, 0, 0, 0, 0, 0, 0, 0,\n",
       "       0, 0, 0, 0, 0, 0, 0, 0, 0, 0, 0, 0, 0, 0, 0, 0, 0, 0, 0, 0, 0, 0,\n",
       "       0, 0, 0, 0, 0, 0, 0, 0, 0, 0, 0, 0, 0, 0, 0, 0, 0, 0, 0, 0, 0, 0,\n",
       "       0, 0, 0, 0, 0, 0, 0, 0, 0, 0, 0, 0, 0, 0, 0, 0, 0, 0, 0],\n",
       "      dtype=int64)"
      ]
     },
     "execution_count": 7,
     "metadata": {},
     "output_type": "execute_result"
    }
   ],
   "source": [
    "train_data.isnull().sum().values"
   ]
  },
  {
   "cell_type": "markdown",
   "metadata": {},
   "source": [
    "O dataset não possui valores nulos."
   ]
  },
  {
   "cell_type": "code",
   "execution_count": 8,
   "metadata": {},
   "outputs": [],
   "source": [
    "resumo = train_data.describe()\n",
    "resumo.to_excel('resumo_estatistico.xlsx') # Salva em excel para facilitar a visualizaacao das colunas  "
   ]
  },
  {
   "cell_type": "code",
   "execution_count": 9,
   "metadata": {},
   "outputs": [
    {
     "data": {
      "text/html": [
       "<div>\n",
       "<style scoped>\n",
       "    .dataframe tbody tr th:only-of-type {\n",
       "        vertical-align: middle;\n",
       "    }\n",
       "\n",
       "    .dataframe tbody tr th {\n",
       "        vertical-align: top;\n",
       "    }\n",
       "\n",
       "    .dataframe thead th {\n",
       "        text-align: right;\n",
       "    }\n",
       "</style>\n",
       "<table border=\"1\" class=\"dataframe\">\n",
       "  <thead>\n",
       "    <tr style=\"text-align: right;\">\n",
       "      <th></th>\n",
       "      <th>count</th>\n",
       "      <th>mean</th>\n",
       "      <th>std</th>\n",
       "      <th>min</th>\n",
       "      <th>25%</th>\n",
       "      <th>50%</th>\n",
       "      <th>75%</th>\n",
       "      <th>max</th>\n",
       "    </tr>\n",
       "  </thead>\n",
       "  <tbody>\n",
       "    <tr>\n",
       "      <th>ind_var2_0</th>\n",
       "      <td>76020.0</td>\n",
       "      <td>0.0</td>\n",
       "      <td>0.0</td>\n",
       "      <td>0.0</td>\n",
       "      <td>0.0</td>\n",
       "      <td>0.0</td>\n",
       "      <td>0.0</td>\n",
       "      <td>0.0</td>\n",
       "    </tr>\n",
       "    <tr>\n",
       "      <th>ind_var2</th>\n",
       "      <td>76020.0</td>\n",
       "      <td>0.0</td>\n",
       "      <td>0.0</td>\n",
       "      <td>0.0</td>\n",
       "      <td>0.0</td>\n",
       "      <td>0.0</td>\n",
       "      <td>0.0</td>\n",
       "      <td>0.0</td>\n",
       "    </tr>\n",
       "    <tr>\n",
       "      <th>ind_var27_0</th>\n",
       "      <td>76020.0</td>\n",
       "      <td>0.0</td>\n",
       "      <td>0.0</td>\n",
       "      <td>0.0</td>\n",
       "      <td>0.0</td>\n",
       "      <td>0.0</td>\n",
       "      <td>0.0</td>\n",
       "      <td>0.0</td>\n",
       "    </tr>\n",
       "    <tr>\n",
       "      <th>ind_var28_0</th>\n",
       "      <td>76020.0</td>\n",
       "      <td>0.0</td>\n",
       "      <td>0.0</td>\n",
       "      <td>0.0</td>\n",
       "      <td>0.0</td>\n",
       "      <td>0.0</td>\n",
       "      <td>0.0</td>\n",
       "      <td>0.0</td>\n",
       "    </tr>\n",
       "    <tr>\n",
       "      <th>ind_var28</th>\n",
       "      <td>76020.0</td>\n",
       "      <td>0.0</td>\n",
       "      <td>0.0</td>\n",
       "      <td>0.0</td>\n",
       "      <td>0.0</td>\n",
       "      <td>0.0</td>\n",
       "      <td>0.0</td>\n",
       "      <td>0.0</td>\n",
       "    </tr>\n",
       "    <tr>\n",
       "      <th>ind_var27</th>\n",
       "      <td>76020.0</td>\n",
       "      <td>0.0</td>\n",
       "      <td>0.0</td>\n",
       "      <td>0.0</td>\n",
       "      <td>0.0</td>\n",
       "      <td>0.0</td>\n",
       "      <td>0.0</td>\n",
       "      <td>0.0</td>\n",
       "    </tr>\n",
       "    <tr>\n",
       "      <th>ind_var41</th>\n",
       "      <td>76020.0</td>\n",
       "      <td>0.0</td>\n",
       "      <td>0.0</td>\n",
       "      <td>0.0</td>\n",
       "      <td>0.0</td>\n",
       "      <td>0.0</td>\n",
       "      <td>0.0</td>\n",
       "      <td>0.0</td>\n",
       "    </tr>\n",
       "    <tr>\n",
       "      <th>ind_var46_0</th>\n",
       "      <td>76020.0</td>\n",
       "      <td>0.0</td>\n",
       "      <td>0.0</td>\n",
       "      <td>0.0</td>\n",
       "      <td>0.0</td>\n",
       "      <td>0.0</td>\n",
       "      <td>0.0</td>\n",
       "      <td>0.0</td>\n",
       "    </tr>\n",
       "    <tr>\n",
       "      <th>ind_var46</th>\n",
       "      <td>76020.0</td>\n",
       "      <td>0.0</td>\n",
       "      <td>0.0</td>\n",
       "      <td>0.0</td>\n",
       "      <td>0.0</td>\n",
       "      <td>0.0</td>\n",
       "      <td>0.0</td>\n",
       "      <td>0.0</td>\n",
       "    </tr>\n",
       "    <tr>\n",
       "      <th>num_var27_0</th>\n",
       "      <td>76020.0</td>\n",
       "      <td>0.0</td>\n",
       "      <td>0.0</td>\n",
       "      <td>0.0</td>\n",
       "      <td>0.0</td>\n",
       "      <td>0.0</td>\n",
       "      <td>0.0</td>\n",
       "      <td>0.0</td>\n",
       "    </tr>\n",
       "    <tr>\n",
       "      <th>num_var28_0</th>\n",
       "      <td>76020.0</td>\n",
       "      <td>0.0</td>\n",
       "      <td>0.0</td>\n",
       "      <td>0.0</td>\n",
       "      <td>0.0</td>\n",
       "      <td>0.0</td>\n",
       "      <td>0.0</td>\n",
       "      <td>0.0</td>\n",
       "    </tr>\n",
       "    <tr>\n",
       "      <th>num_var28</th>\n",
       "      <td>76020.0</td>\n",
       "      <td>0.0</td>\n",
       "      <td>0.0</td>\n",
       "      <td>0.0</td>\n",
       "      <td>0.0</td>\n",
       "      <td>0.0</td>\n",
       "      <td>0.0</td>\n",
       "      <td>0.0</td>\n",
       "    </tr>\n",
       "    <tr>\n",
       "      <th>num_var27</th>\n",
       "      <td>76020.0</td>\n",
       "      <td>0.0</td>\n",
       "      <td>0.0</td>\n",
       "      <td>0.0</td>\n",
       "      <td>0.0</td>\n",
       "      <td>0.0</td>\n",
       "      <td>0.0</td>\n",
       "      <td>0.0</td>\n",
       "    </tr>\n",
       "    <tr>\n",
       "      <th>num_var41</th>\n",
       "      <td>76020.0</td>\n",
       "      <td>0.0</td>\n",
       "      <td>0.0</td>\n",
       "      <td>0.0</td>\n",
       "      <td>0.0</td>\n",
       "      <td>0.0</td>\n",
       "      <td>0.0</td>\n",
       "      <td>0.0</td>\n",
       "    </tr>\n",
       "    <tr>\n",
       "      <th>num_var46_0</th>\n",
       "      <td>76020.0</td>\n",
       "      <td>0.0</td>\n",
       "      <td>0.0</td>\n",
       "      <td>0.0</td>\n",
       "      <td>0.0</td>\n",
       "      <td>0.0</td>\n",
       "      <td>0.0</td>\n",
       "      <td>0.0</td>\n",
       "    </tr>\n",
       "    <tr>\n",
       "      <th>num_var46</th>\n",
       "      <td>76020.0</td>\n",
       "      <td>0.0</td>\n",
       "      <td>0.0</td>\n",
       "      <td>0.0</td>\n",
       "      <td>0.0</td>\n",
       "      <td>0.0</td>\n",
       "      <td>0.0</td>\n",
       "      <td>0.0</td>\n",
       "    </tr>\n",
       "    <tr>\n",
       "      <th>saldo_var28</th>\n",
       "      <td>76020.0</td>\n",
       "      <td>0.0</td>\n",
       "      <td>0.0</td>\n",
       "      <td>0.0</td>\n",
       "      <td>0.0</td>\n",
       "      <td>0.0</td>\n",
       "      <td>0.0</td>\n",
       "      <td>0.0</td>\n",
       "    </tr>\n",
       "    <tr>\n",
       "      <th>saldo_var27</th>\n",
       "      <td>76020.0</td>\n",
       "      <td>0.0</td>\n",
       "      <td>0.0</td>\n",
       "      <td>0.0</td>\n",
       "      <td>0.0</td>\n",
       "      <td>0.0</td>\n",
       "      <td>0.0</td>\n",
       "      <td>0.0</td>\n",
       "    </tr>\n",
       "    <tr>\n",
       "      <th>saldo_var41</th>\n",
       "      <td>76020.0</td>\n",
       "      <td>0.0</td>\n",
       "      <td>0.0</td>\n",
       "      <td>0.0</td>\n",
       "      <td>0.0</td>\n",
       "      <td>0.0</td>\n",
       "      <td>0.0</td>\n",
       "      <td>0.0</td>\n",
       "    </tr>\n",
       "    <tr>\n",
       "      <th>saldo_var46</th>\n",
       "      <td>76020.0</td>\n",
       "      <td>0.0</td>\n",
       "      <td>0.0</td>\n",
       "      <td>0.0</td>\n",
       "      <td>0.0</td>\n",
       "      <td>0.0</td>\n",
       "      <td>0.0</td>\n",
       "      <td>0.0</td>\n",
       "    </tr>\n",
       "    <tr>\n",
       "      <th>imp_amort_var18_hace3</th>\n",
       "      <td>76020.0</td>\n",
       "      <td>0.0</td>\n",
       "      <td>0.0</td>\n",
       "      <td>0.0</td>\n",
       "      <td>0.0</td>\n",
       "      <td>0.0</td>\n",
       "      <td>0.0</td>\n",
       "      <td>0.0</td>\n",
       "    </tr>\n",
       "    <tr>\n",
       "      <th>imp_amort_var34_hace3</th>\n",
       "      <td>76020.0</td>\n",
       "      <td>0.0</td>\n",
       "      <td>0.0</td>\n",
       "      <td>0.0</td>\n",
       "      <td>0.0</td>\n",
       "      <td>0.0</td>\n",
       "      <td>0.0</td>\n",
       "      <td>0.0</td>\n",
       "    </tr>\n",
       "    <tr>\n",
       "      <th>imp_reemb_var13_hace3</th>\n",
       "      <td>76020.0</td>\n",
       "      <td>0.0</td>\n",
       "      <td>0.0</td>\n",
       "      <td>0.0</td>\n",
       "      <td>0.0</td>\n",
       "      <td>0.0</td>\n",
       "      <td>0.0</td>\n",
       "      <td>0.0</td>\n",
       "    </tr>\n",
       "    <tr>\n",
       "      <th>imp_reemb_var33_hace3</th>\n",
       "      <td>76020.0</td>\n",
       "      <td>0.0</td>\n",
       "      <td>0.0</td>\n",
       "      <td>0.0</td>\n",
       "      <td>0.0</td>\n",
       "      <td>0.0</td>\n",
       "      <td>0.0</td>\n",
       "      <td>0.0</td>\n",
       "    </tr>\n",
       "    <tr>\n",
       "      <th>imp_trasp_var17_out_hace3</th>\n",
       "      <td>76020.0</td>\n",
       "      <td>0.0</td>\n",
       "      <td>0.0</td>\n",
       "      <td>0.0</td>\n",
       "      <td>0.0</td>\n",
       "      <td>0.0</td>\n",
       "      <td>0.0</td>\n",
       "      <td>0.0</td>\n",
       "    </tr>\n",
       "    <tr>\n",
       "      <th>imp_trasp_var33_out_hace3</th>\n",
       "      <td>76020.0</td>\n",
       "      <td>0.0</td>\n",
       "      <td>0.0</td>\n",
       "      <td>0.0</td>\n",
       "      <td>0.0</td>\n",
       "      <td>0.0</td>\n",
       "      <td>0.0</td>\n",
       "      <td>0.0</td>\n",
       "    </tr>\n",
       "    <tr>\n",
       "      <th>num_var2_0_ult1</th>\n",
       "      <td>76020.0</td>\n",
       "      <td>0.0</td>\n",
       "      <td>0.0</td>\n",
       "      <td>0.0</td>\n",
       "      <td>0.0</td>\n",
       "      <td>0.0</td>\n",
       "      <td>0.0</td>\n",
       "      <td>0.0</td>\n",
       "    </tr>\n",
       "    <tr>\n",
       "      <th>num_var2_ult1</th>\n",
       "      <td>76020.0</td>\n",
       "      <td>0.0</td>\n",
       "      <td>0.0</td>\n",
       "      <td>0.0</td>\n",
       "      <td>0.0</td>\n",
       "      <td>0.0</td>\n",
       "      <td>0.0</td>\n",
       "      <td>0.0</td>\n",
       "    </tr>\n",
       "    <tr>\n",
       "      <th>num_reemb_var13_hace3</th>\n",
       "      <td>76020.0</td>\n",
       "      <td>0.0</td>\n",
       "      <td>0.0</td>\n",
       "      <td>0.0</td>\n",
       "      <td>0.0</td>\n",
       "      <td>0.0</td>\n",
       "      <td>0.0</td>\n",
       "      <td>0.0</td>\n",
       "    </tr>\n",
       "    <tr>\n",
       "      <th>num_reemb_var33_hace3</th>\n",
       "      <td>76020.0</td>\n",
       "      <td>0.0</td>\n",
       "      <td>0.0</td>\n",
       "      <td>0.0</td>\n",
       "      <td>0.0</td>\n",
       "      <td>0.0</td>\n",
       "      <td>0.0</td>\n",
       "      <td>0.0</td>\n",
       "    </tr>\n",
       "    <tr>\n",
       "      <th>num_trasp_var17_out_hace3</th>\n",
       "      <td>76020.0</td>\n",
       "      <td>0.0</td>\n",
       "      <td>0.0</td>\n",
       "      <td>0.0</td>\n",
       "      <td>0.0</td>\n",
       "      <td>0.0</td>\n",
       "      <td>0.0</td>\n",
       "      <td>0.0</td>\n",
       "    </tr>\n",
       "    <tr>\n",
       "      <th>num_trasp_var33_out_hace3</th>\n",
       "      <td>76020.0</td>\n",
       "      <td>0.0</td>\n",
       "      <td>0.0</td>\n",
       "      <td>0.0</td>\n",
       "      <td>0.0</td>\n",
       "      <td>0.0</td>\n",
       "      <td>0.0</td>\n",
       "      <td>0.0</td>\n",
       "    </tr>\n",
       "    <tr>\n",
       "      <th>saldo_var2_ult1</th>\n",
       "      <td>76020.0</td>\n",
       "      <td>0.0</td>\n",
       "      <td>0.0</td>\n",
       "      <td>0.0</td>\n",
       "      <td>0.0</td>\n",
       "      <td>0.0</td>\n",
       "      <td>0.0</td>\n",
       "      <td>0.0</td>\n",
       "    </tr>\n",
       "    <tr>\n",
       "      <th>saldo_medio_var13_medio_hace3</th>\n",
       "      <td>76020.0</td>\n",
       "      <td>0.0</td>\n",
       "      <td>0.0</td>\n",
       "      <td>0.0</td>\n",
       "      <td>0.0</td>\n",
       "      <td>0.0</td>\n",
       "      <td>0.0</td>\n",
       "      <td>0.0</td>\n",
       "    </tr>\n",
       "  </tbody>\n",
       "</table>\n",
       "</div>"
      ],
      "text/plain": [
       "                                 count  mean  std  min  25%  50%  75%  max\n",
       "ind_var2_0                     76020.0   0.0  0.0  0.0  0.0  0.0  0.0  0.0\n",
       "ind_var2                       76020.0   0.0  0.0  0.0  0.0  0.0  0.0  0.0\n",
       "ind_var27_0                    76020.0   0.0  0.0  0.0  0.0  0.0  0.0  0.0\n",
       "ind_var28_0                    76020.0   0.0  0.0  0.0  0.0  0.0  0.0  0.0\n",
       "ind_var28                      76020.0   0.0  0.0  0.0  0.0  0.0  0.0  0.0\n",
       "ind_var27                      76020.0   0.0  0.0  0.0  0.0  0.0  0.0  0.0\n",
       "ind_var41                      76020.0   0.0  0.0  0.0  0.0  0.0  0.0  0.0\n",
       "ind_var46_0                    76020.0   0.0  0.0  0.0  0.0  0.0  0.0  0.0\n",
       "ind_var46                      76020.0   0.0  0.0  0.0  0.0  0.0  0.0  0.0\n",
       "num_var27_0                    76020.0   0.0  0.0  0.0  0.0  0.0  0.0  0.0\n",
       "num_var28_0                    76020.0   0.0  0.0  0.0  0.0  0.0  0.0  0.0\n",
       "num_var28                      76020.0   0.0  0.0  0.0  0.0  0.0  0.0  0.0\n",
       "num_var27                      76020.0   0.0  0.0  0.0  0.0  0.0  0.0  0.0\n",
       "num_var41                      76020.0   0.0  0.0  0.0  0.0  0.0  0.0  0.0\n",
       "num_var46_0                    76020.0   0.0  0.0  0.0  0.0  0.0  0.0  0.0\n",
       "num_var46                      76020.0   0.0  0.0  0.0  0.0  0.0  0.0  0.0\n",
       "saldo_var28                    76020.0   0.0  0.0  0.0  0.0  0.0  0.0  0.0\n",
       "saldo_var27                    76020.0   0.0  0.0  0.0  0.0  0.0  0.0  0.0\n",
       "saldo_var41                    76020.0   0.0  0.0  0.0  0.0  0.0  0.0  0.0\n",
       "saldo_var46                    76020.0   0.0  0.0  0.0  0.0  0.0  0.0  0.0\n",
       "imp_amort_var18_hace3          76020.0   0.0  0.0  0.0  0.0  0.0  0.0  0.0\n",
       "imp_amort_var34_hace3          76020.0   0.0  0.0  0.0  0.0  0.0  0.0  0.0\n",
       "imp_reemb_var13_hace3          76020.0   0.0  0.0  0.0  0.0  0.0  0.0  0.0\n",
       "imp_reemb_var33_hace3          76020.0   0.0  0.0  0.0  0.0  0.0  0.0  0.0\n",
       "imp_trasp_var17_out_hace3      76020.0   0.0  0.0  0.0  0.0  0.0  0.0  0.0\n",
       "imp_trasp_var33_out_hace3      76020.0   0.0  0.0  0.0  0.0  0.0  0.0  0.0\n",
       "num_var2_0_ult1                76020.0   0.0  0.0  0.0  0.0  0.0  0.0  0.0\n",
       "num_var2_ult1                  76020.0   0.0  0.0  0.0  0.0  0.0  0.0  0.0\n",
       "num_reemb_var13_hace3          76020.0   0.0  0.0  0.0  0.0  0.0  0.0  0.0\n",
       "num_reemb_var33_hace3          76020.0   0.0  0.0  0.0  0.0  0.0  0.0  0.0\n",
       "num_trasp_var17_out_hace3      76020.0   0.0  0.0  0.0  0.0  0.0  0.0  0.0\n",
       "num_trasp_var33_out_hace3      76020.0   0.0  0.0  0.0  0.0  0.0  0.0  0.0\n",
       "saldo_var2_ult1                76020.0   0.0  0.0  0.0  0.0  0.0  0.0  0.0\n",
       "saldo_medio_var13_medio_hace3  76020.0   0.0  0.0  0.0  0.0  0.0  0.0  0.0"
      ]
     },
     "execution_count": 9,
     "metadata": {},
     "output_type": "execute_result"
    }
   ],
   "source": [
    "resumo_transpose = resumo.T #inverte as linhas com as colunas para usar o .loc\n",
    "resumo_transpose.loc[resumo_transpose['mean'] == 0]"
   ]
  },
  {
   "cell_type": "markdown",
   "metadata": {},
   "source": [
    "As variaveis acima estão zeradas em todas as estatísticas, isso indica que elas não possuem valores diferentes de zero no dataset de treino. Podendo assim não apresentar relevancia no treinamento do modelo, por esse motivo elas serão removidas do dataset juntamento com a coluna ID."
   ]
  },
  {
   "cell_type": "code",
   "execution_count": 10,
   "metadata": {},
   "outputs": [],
   "source": [
    "remove_cols = list(resumo_transpose.loc[resumo_transpose['mean'] == 0].index)\n",
    "remove_cols.append('ID')"
   ]
  },
  {
   "cell_type": "code",
   "execution_count": 11,
   "metadata": {},
   "outputs": [
    {
     "data": {
      "text/plain": [
       "(76020, 336)"
      ]
     },
     "execution_count": 11,
     "metadata": {},
     "output_type": "execute_result"
    }
   ],
   "source": [
    "data = train_data.drop(columns = remove_cols)\n",
    "data.shape"
   ]
  },
  {
   "cell_type": "code",
   "execution_count": 12,
   "metadata": {},
   "outputs": [
    {
     "data": {
      "text/plain": [
       "TARGET\n",
       "0    73012\n",
       "1     3008\n",
       "dtype: int64"
      ]
     },
     "execution_count": 12,
     "metadata": {},
     "output_type": "execute_result"
    }
   ],
   "source": [
    "#Verifica a distribuicao da variavel target\n",
    "data.groupby('TARGET').size()"
   ]
  },
  {
   "cell_type": "code",
   "execution_count": 13,
   "metadata": {},
   "outputs": [
    {
     "data": {
      "text/plain": [
       "<matplotlib.axes._subplots.AxesSubplot at 0x1c793664358>"
      ]
     },
     "execution_count": 13,
     "metadata": {},
     "output_type": "execute_result"
    },
    {
     "data": {
      "image/png": "[encoded data removed]",
      "text/plain": [
       "<Figure size 720x360 with 1 Axes>"
      ]
     },
     "metadata": {},
     "output_type": "display_data"
    }
   ],
   "source": [
    "figure, axes = plt.subplots(figsize = (10,5))\n",
    "data['TARGET'].value_counts().plot.pie(\n",
    "    explode=[0,0.1],autopct='%1.1f%%',ax=axes,shadow=True\n",
    ")"
   ]
  },
  {
   "cell_type": "markdown",
   "metadata": {},
   "source": [
    "As classes estao desbalanceadas, sendo que 0 tem muito mais ocorrencias do que 1"
   ]
  },
  {
   "cell_type": "code",
   "execution_count": 14,
   "metadata": {},
   "outputs": [
    {
     "data": {
      "text/plain": [
       "4807"
      ]
     },
     "execution_count": 14,
     "metadata": {},
     "output_type": "execute_result"
    }
   ],
   "source": [
    "data.duplicated().sum()"
   ]
  },
  {
   "cell_type": "markdown",
   "metadata": {},
   "source": [
    "O dataset possui 4807 valores duplicados"
   ]
  },
  {
   "cell_type": "code",
   "execution_count": 15,
   "metadata": {},
   "outputs": [],
   "source": [
    "#remove os dados duplicados\n",
    "data_sd = data.drop_duplicates()"
   ]
  },
  {
   "cell_type": "markdown",
   "metadata": {},
   "source": [
    "## Feature Selection"
   ]
  },
  {
   "cell_type": "code",
   "execution_count": 16,
   "metadata": {},
   "outputs": [
    {
     "data": {
      "text/plain": [
       "ExtraTreesClassifier()"
      ]
     },
     "execution_count": 16,
     "metadata": {},
     "output_type": "execute_result"
    }
   ],
   "source": [
    "#Utiliza Extra Tree Classifier - iremos remover as features menos importantes\n",
    "x = data_sd.drop('TARGET', axis = 1)\n",
    "y = data_sd['TARGET']\n",
    "\n",
    "# Criação do Modelo - Feature Selection\n",
    "modelo = ExtraTreesClassifier()\n",
    "modelo.fit(x, y)"
   ]
  },
  {
   "cell_type": "code",
   "execution_count": 17,
   "metadata": {},
   "outputs": [
    {
     "data": {
      "text/plain": [
       "array([['delta_imp_amort_var34_1y3', 0.0],\n",
       "       ['ind_var13_medio', 0.0],\n",
       "       ['num_reemb_var33_ult1', 0.0],\n",
       "       ['delta_imp_trasp_var33_out_1y3', 0.0],\n",
       "       ['ind_var18', 0.0],\n",
       "       ['delta_imp_trasp_var17_out_1y3', 0.0],\n",
       "       ['delta_imp_reemb_var33_1y3', 0.0],\n",
       "       ['delta_imp_amort_var18_1y3', 0.0],\n",
       "       ['saldo_var34', 0.0],\n",
       "       ['imp_reemb_var33_ult1', 0.0],\n",
       "       ['imp_trasp_var17_in_hace3', 0.0],\n",
       "       ['saldo_var18', 0.0],\n",
       "       ['imp_trasp_var33_in_hace3', 0.0],\n",
       "       ['imp_trasp_var33_in_ult1', 0.0],\n",
       "       ['num_var6', 0.0],\n",
       "       ['imp_trasp_var33_out_ult1', 0.0],\n",
       "       ['num_meses_var13_medio_ult3', 0.0],\n",
       "       ['num_aport_var33_ult1', 0.0],\n",
       "       ['num_var18', 0.0],\n",
       "       ['saldo_medio_var13_medio_ult3', 0.0],\n",
       "       ['delta_num_reemb_var33_1y3', 0.0],\n",
       "       ['num_trasp_var17_in_hace3', 0.0],\n",
       "       ['saldo_medio_var13_medio_hace2', 0.0],\n",
       "       ['imp_amort_var34_ult1', 0.0],\n",
       "       ['imp_aport_var33_ult1', 0.0],\n",
       "       ['num_trasp_var33_in_ult1', 0.0],\n",
       "       ['num_trasp_var33_out_ult1', 0.0],\n",
       "       ['delta_num_trasp_var33_out_1y3', 0.0],\n",
       "       ['num_var13_medio', 1.7667805995375409e-10],\n",
       "       ['saldo_medio_var29_ult1', 1.0621469251602716e-09],\n",
       "       ['saldo_medio_var29_hace2', 1.362754545468587e-09],\n",
       "       ['imp_reemb_var17_hace3', 3.277007608517335e-09],\n",
       "       ['num_reemb_var17_hace3', 4.303057691593175e-09],\n",
       "       ['num_trasp_var33_in_hace3', 4.357351979734678e-09],\n",
       "       ['delta_imp_trasp_var33_in_1y3', 4.5641123288330054e-09],\n",
       "       ['saldo_medio_var29_ult3', 5.273173437824001e-09],\n",
       "       ['ind_var34', 5.299147568396223e-09],\n",
       "       ['num_op_var40_hace3', 6.801776648640454e-09],\n",
       "       ['saldo_medio_var29_hace3', 6.876434460214772e-09],\n",
       "       ['ind_var13_medio_0', 6.882229946031844e-09],\n",
       "       ['delta_imp_trasp_var17_in_1y3', 1.0592531232971003e-08],\n",
       "       ['saldo_medio_var13_medio_ult1', 1.3940678392640995e-08],\n",
       "       ['ind_var34_0', 1.7882461582588923e-08],\n",
       "       ['delta_num_trasp_var17_out_1y3', 2.0056155463891293e-08],\n",
       "       ['saldo_var6', 2.430682386408882e-08],\n",
       "       ['saldo_medio_var13_largo_hace3', 2.8515620285977848e-08],\n",
       "       ['num_var13_medio_0', 3.4625750901337693e-08],\n",
       "       ['ind_var6', 3.69938002224158e-08],\n",
       "       ['ind_var29', 3.762051814603311e-08],\n",
       "       ['ind_var18_0', 4.548031758871545e-08],\n",
       "       ['imp_aport_var17_hace3', 4.8567906368753343e-08],\n",
       "       ['num_var34', 5.266478503886279e-08],\n",
       "       ['imp_venta_var44_hace3', 6.771186647853749e-08],\n",
       "       ['saldo_var29', 6.771186647853752e-08],\n",
       "       ['saldo_var20', 6.82888007185809e-08],\n",
       "       ['num_var18_0', 9.017768966678284e-08],\n",
       "       ['num_trasp_var17_in_ult1', 9.028248863805128e-08],\n",
       "       ['num_trasp_var17_out_ult1', 1.4677843650274644e-07],\n",
       "       ['num_venta_var44_ult1', 1.5174810126464206e-07],\n",
       "       ['imp_var7_emit_ult1', 2.2610709691407918e-07],\n",
       "       ['saldo_var13_medio', 3.15988710233178e-07],\n",
       "       ['imp_aport_var33_hace3', 3.514692269885784e-07],\n",
       "       ['ind_var29_0', 3.939184787510236e-07],\n",
       "       ['num_var7_emit_ult1', 4.6166600153377986e-07],\n",
       "       ['saldo_medio_var33_hace2', 4.804459739124985e-07],\n",
       "       ['delta_num_aport_var33_1y3', 5.510760144275944e-07],\n",
       "       ['ind_var6_0', 6.275525179634042e-07],\n",
       "       ['imp_trasp_var17_out_ult1', 6.54925360713144e-07],\n",
       "       ['num_meses_var29_ult3', 6.727675188507354e-07],\n",
       "       ['saldo_medio_var44_hace3', 7.385210796243539e-07],\n",
       "       ['saldo_medio_var33_hace3', 7.546322066740186e-07],\n",
       "       ['num_var6_0', 7.655412948477448e-07],\n",
       "       ['num_var29', 9.479661306995345e-07],\n",
       "       ['num_aport_var33_hace3', 1.1470438025347847e-06],\n",
       "       ['saldo_medio_var13_largo_hace2', 1.312989991501665e-06],\n",
       "       ['saldo_medio_var33_ult1', 1.4979155321364004e-06],\n",
       "       ['num_var33', 1.5322429773088772e-06],\n",
       "       ['imp_amort_var18_ult1', 1.8959322613990675e-06],\n",
       "       ['num_venta_var44_hace3', 1.8959322613990687e-06],\n",
       "       ['delta_num_trasp_var17_in_1y3', 1.898629177844862e-06],\n",
       "       ['delta_imp_aport_var33_1y3', 1.926886011362852e-06],\n",
       "       ['num_var34_0', 1.937952036696028e-06],\n",
       "       ['ind_var33', 2.045638353163504e-06],\n",
       "       ['num_aport_var17_hace3', 2.103882485397651e-06],\n",
       "       ['imp_trasp_var17_in_ult1', 2.106946812438942e-06],\n",
       "       ['saldo_medio_var33_ult3', 2.1593664088436598e-06],\n",
       "       ['num_var29_0', 2.203078068790204e-06],\n",
       "       ['saldo_medio_var17_hace3', 2.233636885799738e-06],\n",
       "       ['delta_num_trasp_var33_in_1y3', 2.4190279656988244e-06],\n",
       "       ['ind_var7_emit_ult1', 2.4427069171743955e-06],\n",
       "       ['delta_imp_aport_var17_1y3', 2.5632468490601333e-06],\n",
       "       ['ind_var20', 2.6440665980308447e-06],\n",
       "       ['saldo_var33', 3.2913665090597454e-06],\n",
       "       ['imp_compra_var44_hace3', 3.404613840656548e-06],\n",
       "       ['saldo_medio_var13_largo_ult1', 4.558853062901946e-06],\n",
       "       ['num_compra_var44_hace3', 5.170857421843464e-06],\n",
       "       ['delta_imp_reemb_var17_1y3', 5.233135172276101e-06],\n",
       "       ['imp_venta_var44_ult1', 5.484471333454538e-06],\n",
       "       ['delta_num_aport_var17_1y3', 6.336285473031383e-06],\n",
       "       ['saldo_medio_var17_hace2', 6.906134206280819e-06],\n",
       "       ['num_reemb_var13_ult1', 6.997287685866785e-06],\n",
       "       ['num_var20', 7.1661925922839995e-06],\n",
       "       ['num_meses_var33_ult3', 7.227554496823671e-06],\n",
       "       ['saldo_medio_var13_largo_ult3', 7.374751836697662e-06],\n",
       "       ['num_var44', 8.214878043160536e-06],\n",
       "       ['delta_num_reemb_var17_1y3', 8.408458482939104e-06],\n",
       "       ['delta_imp_reemb_var13_1y3', 8.516481111900537e-06],\n",
       "       ['ind_var33_0', 8.903453675508777e-06],\n",
       "       ['delta_num_venta_var44_1y3', 8.923150098351251e-06],\n",
       "       ['saldo_medio_var44_hace2', 1.0707224055636972e-05],\n",
       "       ['num_var33_0', 1.2023501919696587e-05],\n",
       "       ['num_var44_0', 1.2444724341900841e-05],\n",
       "       ['delta_imp_venta_var44_1y3', 1.3215481664628131e-05],\n",
       "       ['imp_reemb_var13_ult1', 1.3835661098185002e-05],\n",
       "       ['ind_var17', 1.5949259333350268e-05],\n",
       "       ['ind_var44_0', 1.6397888720617608e-05],\n",
       "       ['num_compra_var44_ult1', 1.645068691649524e-05],\n",
       "       ['num_meses_var13_largo_ult3', 1.70439147109525e-05],\n",
       "       ['saldo_medio_var44_ult3', 1.7304875909047485e-05],\n",
       "       ['imp_aport_var17_ult1', 1.783110915591587e-05],\n",
       "       ['ind_var44', 1.8011997053300332e-05],\n",
       "       ['delta_num_reemb_var13_1y3', 1.8221942903546038e-05],\n",
       "       ['num_aport_var13_ult1', 1.8469060805798272e-05],\n",
       "       ['num_meses_var44_ult3', 1.917988330106588e-05],\n",
       "       ['saldo_var44', 1.927247250557251e-05],\n",
       "       ['saldo_var17', 2.0458444211486147e-05],\n",
       "       ['num_var13_largo', 2.06114760738431e-05],\n",
       "       ['saldo_medio_var44_ult1', 2.381302829701173e-05],\n",
       "       ['delta_num_compra_var44_1y3', 2.4215751626896195e-05],\n",
       "       ['ind_var17_0', 2.5605475789809172e-05],\n",
       "       ['num_var17', 2.6749254315362915e-05],\n",
       "       ['delta_imp_compra_var44_1y3', 2.6836520630144433e-05],\n",
       "       ['saldo_medio_var17_ult3', 2.8969202701722943e-05],\n",
       "       ['num_var13_largo_0', 2.934655633612628e-05],\n",
       "       ['ind_var32', 2.9704803563572025e-05],\n",
       "       ['num_var17_0', 3.2137796579452446e-05],\n",
       "       ['ind_var32_0', 3.3973170009929117e-05],\n",
       "       ['saldo_medio_var17_ult1', 3.4374901866456725e-05],\n",
       "       ['num_meses_var17_ult3', 3.5439919607205304e-05],\n",
       "       ['ind_var31', 3.931816137130289e-05],\n",
       "       ['num_var31', 3.962726642922375e-05],\n",
       "       ['saldo_var13_largo', 3.967108787781965e-05],\n",
       "       ['num_var31_0', 4.046422107294217e-05],\n",
       "       ['saldo_var31', 4.145482995220389e-05],\n",
       "       ['num_aport_var13_hace3', 4.191322092813164e-05],\n",
       "       ['ind_var13_largo_0', 4.352590262154495e-05],\n",
       "       ['num_aport_var17_ult1', 4.38450434421661e-05],\n",
       "       ['saldo_var32', 5.248263236801124e-05],\n",
       "       ['imp_compra_var44_ult1', 5.303394539068277e-05],\n",
       "       ['ind_var20_0', 5.685059977138382e-05],\n",
       "       ['num_op_var40_hace2', 5.699651846865548e-05],\n",
       "       ['num_var14', 5.706041380259716e-05],\n",
       "       ['ind_var14', 5.7442505514957595e-05],\n",
       "       ['num_op_var40_ult1', 5.773467076299025e-05],\n",
       "       ['num_var32', 5.8435045331584724e-05],\n",
       "       ['imp_aport_var13_ult1', 5.910165211954494e-05],\n",
       "       ['num_var20_0', 6.11607609493264e-05],\n",
       "       ['saldo_var14', 6.255983869740112e-05],\n",
       "       ['ind_var31_0', 6.314215303702436e-05],\n",
       "       ['num_reemb_var17_ult1', 6.399655178728184e-05],\n",
       "       ['delta_imp_aport_var13_1y3', 6.468641632667252e-05],\n",
       "       ['imp_reemb_var17_ult1', 6.595704447691039e-05],\n",
       "       ['num_var1', 6.668996012698407e-05],\n",
       "       ['num_var39', 6.693136007127366e-05],\n",
       "       ['num_var13_corto', 6.950625447082986e-05],\n",
       "       ['delta_num_aport_var13_1y3', 7.152490427668602e-05],\n",
       "       ['imp_op_var40_ult1', 7.193766509273445e-05],\n",
       "       ['num_var40', 7.225472969044914e-05],\n",
       "       ['num_op_var40_ult3', 7.526591727856142e-05],\n",
       "       ['ind_var13_largo', 7.681804270390744e-05],\n",
       "       ['imp_aport_var13_hace3', 8.111300963843563e-05],\n",
       "       ['num_var32_0', 8.230371779832233e-05],\n",
       "       ['num_op_var40_comer_ult1', 8.402946214254284e-05],\n",
       "       ['ind_var39', 8.596129116976983e-05],\n",
       "       ['saldo_medio_var13_corto_hace3', 9.07776382572353e-05],\n",
       "       ['ind_var1', 9.263799376741771e-05],\n",
       "       ['ind_var40', 0.00010028464567839815],\n",
       "       ['num_var13_corto_0', 0.0001036513558455007],\n",
       "       ['imp_op_var40_comer_ult1', 0.00010533814980426334],\n",
       "       ['ind_var13_corto_0', 0.00012062550264892773],\n",
       "       ['num_var13_0', 0.00012286538901122078],\n",
       "       ['saldo_var1', 0.00012562699073211553],\n",
       "       ['num_var13', 0.00013021267737936911],\n",
       "       ['num_op_var40_comer_ult3', 0.00013332829564670975],\n",
       "       ['imp_op_var40_comer_ult3', 0.00013375068200832267],\n",
       "       ['num_var24', 0.0001376872685283317],\n",
       "       ['ind_var13_corto', 0.0001539013405237022],\n",
       "       ['saldo_var40', 0.0001615218758267406],\n",
       "       ['ind_var19', 0.0001618297649707579],\n",
       "       ['num_meses_var13_corto_ult3', 0.00017076683574070872],\n",
       "       ['ind_var24', 0.00017482534089644067],\n",
       "       ['ind_var30_0', 0.00018221466474271287],\n",
       "       ['num_op_var40_efect_ult1', 0.0001870107344425778],\n",
       "       ['num_op_var40_efect_ult3', 0.000202117816277438],\n",
       "       ['ind_var32_cte', 0.0002171857823813081],\n",
       "       ['num_var12', 0.00021880421874897365],\n",
       "       ['ind_var25', 0.00022177111712910714],\n",
       "       ['ind_var26_0', 0.00022639556024339392],\n",
       "       ['num_var24_0', 0.00023070964833274323],\n",
       "       ['imp_op_var40_efect_ult3', 0.00024365576410694656],\n",
       "       ['var21', 0.000246053468685278],\n",
       "       ['ind_var14_0', 0.0002588347232368191],\n",
       "       ['ind_var25_0', 0.00026287621848911633],\n",
       "       ['num_var14_0', 0.0002764176609224401],\n",
       "       ['imp_op_var40_efect_ult1', 0.00027807583391743724],\n",
       "       ['ind_var1_0', 0.00027830550407492445],\n",
       "       ['ind_var26', 0.0002794736025721683],\n",
       "       ['saldo_var13_corto', 0.0002824223000670698],\n",
       "       ['saldo_medio_var12_hace3', 0.0002828585389991773],\n",
       "       ['ind_var40_0', 0.00028549352626467203],\n",
       "       ['ind_var8', 0.0002861926478896378],\n",
       "       ['saldo_var24', 0.0002872529284007909],\n",
       "       ['num_var1_0', 0.00029543221761167254],\n",
       "       ['saldo_var12', 0.000312202418615315],\n",
       "       ['num_var7_recib_ult1', 0.00031406590008828254],\n",
       "       ['ind_var7_recib_ult1', 0.00032836006301806384],\n",
       "       ['num_var40_0', 0.0003325498126873807],\n",
       "       ['saldo_medio_var13_corto_ult1', 0.00033414287323276897],\n",
       "       ['ind_var13_0', 0.0003354855803115612],\n",
       "       ['ind_var24_0', 0.00034152075315604024],\n",
       "       ['ind_var25_cte', 0.00034728030285272336],\n",
       "       ['saldo_medio_var13_corto_ult3', 0.00034741910203131283],\n",
       "       ['num_var8', 0.00034885115517286036],\n",
       "       ['saldo_var13', 0.00037413713379652694],\n",
       "       ['imp_var7_recib_ult1', 0.0003766241458469501],\n",
       "       ['saldo_medio_var12_ult1', 0.0003784187353699339],\n",
       "       ['saldo_medio_var13_corto_hace2', 0.00038110525730799654],\n",
       "       ['saldo_medio_var12_hace2', 0.0003948722793535761],\n",
       "       ['saldo_medio_var12_ult3', 0.0003960503303074864],\n",
       "       ['saldo_medio_var8_hace3', 0.000401929028092433],\n",
       "       ['num_var25', 0.0004098491771513094],\n",
       "       ['ind_var12', 0.00043619212631943924],\n",
       "       ['num_var26', 0.00044537379261164146],\n",
       "       ['num_meses_var12_ult3', 0.0004482373171945241],\n",
       "       ['num_var12_0', 0.00044948699419471817],\n",
       "       ['imp_sal_var16_ult1', 0.0004551018343197237],\n",
       "       ['ind_var26_cte', 0.00046344057409084324],\n",
       "       ['num_sal_var16_ult1', 0.00046638695003410174],\n",
       "       ['ind_var13', 0.00046855896806859436],\n",
       "       ['num_var25_0', 0.0004740070293667836],\n",
       "       ['num_var26_0', 0.0004783547053807834],\n",
       "       ['ind_var10cte_ult1', 0.0004797528078220896],\n",
       "       ['ind_var9_ult1', 0.0004802874956923611],\n",
       "       ['ind_var9_cte_ult1', 0.00048398128014021487],\n",
       "       ['ind_var10_ult1', 0.0005113613612934048],\n",
       "       ['ind_var5_0', 0.0005177854824261657],\n",
       "       ['num_var5_0', 0.0005857945272138962],\n",
       "       ['ind_var37_0', 0.0005925352079321215],\n",
       "       ['ind_var41_0', 0.0005946770645034558],\n",
       "       ['ind_var12_0', 0.0006132719090220153],\n",
       "       ['num_var30_0', 0.0006232783607756127],\n",
       "       ['ind_var37', 0.0006302795620852475],\n",
       "       ['ind_var39_0', 0.0006747801400480306],\n",
       "       ['saldo_var26', 0.0006830256572889667],\n",
       "       ['ind_var37_cte', 0.0006870574827764775],\n",
       "       ['saldo_medio_var8_hace2', 0.0006872116611790414],\n",
       "       ['saldo_var25', 0.0007134326596736864],\n",
       "       ['num_var42_0', 0.0007398130830345177],\n",
       "       ['num_var8_0', 0.0007698274461887273],\n",
       "       ['num_meses_var8_ult3', 0.0008648323285492607],\n",
       "       ['saldo_medio_var8_ult3', 0.0008772429977575239],\n",
       "       ['saldo_var8', 0.0009427739494036068],\n",
       "       ['num_op_var39_hace3', 0.0009486038713962423],\n",
       "       ['saldo_medio_var8_ult1', 0.000952110762577327],\n",
       "       ['num_op_var41_hace3', 0.0009665788654386352],\n",
       "       ['num_trasp_var11_ult1', 0.0010260757718738305],\n",
       "       ['ind_var8_0', 0.0010745108504776738],\n",
       "       ['num_var30', 0.001304217721189364],\n",
       "       ['num_var5', 0.0013658122294077796],\n",
       "       ['num_var39_0', 0.0014375973643806633],\n",
       "       ['num_var37_0', 0.0014442101065474222],\n",
       "       ['num_var37', 0.0014993296795524987],\n",
       "       ['num_var41_0', 0.001516458181299755],\n",
       "       ['num_var37_med_ult2', 0.0018096512848680725],\n",
       "       ['ind_var43_emit_ult1', 0.002034579827572461],\n",
       "       ['num_var35', 0.002278506980689889],\n",
       "       ['ind_var43_recib_ult1', 0.0022797022246413994],\n",
       "       ['num_var43_emit_ult1', 0.0023099163681879606],\n",
       "       ['num_op_var39_efect_ult1', 0.0023873783117912923],\n",
       "       ['saldo_var37', 0.00259502545162651],\n",
       "       ['num_op_var41_efect_ult1', 0.0026099871880605934],\n",
       "       ['imp_var43_emit_ult1', 0.0026346802335195096],\n",
       "       ['num_op_var41_comer_ult1', 0.0027623714776588335],\n",
       "       ['num_var42', 0.002779131456190915],\n",
       "       ['num_op_var39_comer_ult1', 0.0027794881588079157],\n",
       "       ['num_op_var39_ult1', 0.002865603080178216],\n",
       "       ['num_var43_recib_ult1', 0.0029026974005160883],\n",
       "       ['num_var4', 0.002910328972704725],\n",
       "       ['num_op_var39_efect_ult3', 0.0029178735643850015],\n",
       "       ['num_op_var41_efect_ult3', 0.0030206560844470444],\n",
       "       ['imp_op_var41_efect_ult1', 0.003037437314788583],\n",
       "       ['num_op_var41_ult1', 0.0031525679266056826],\n",
       "       ['imp_op_var39_efect_ult1', 0.00316571876103478],\n",
       "       ['imp_op_var39_comer_ult1', 0.00321707253975887],\n",
       "       ['imp_trans_var37_ult1', 0.0032222569800281872],\n",
       "       ['num_op_var39_hace2', 0.0032315715643017394],\n",
       "       ['num_op_var41_comer_ult3', 0.003244412269711578],\n",
       "       ['num_op_var39_ult3', 0.0033102547305845745],\n",
       "       ['imp_op_var41_comer_ult1', 0.0033118400449438203],\n",
       "       ['num_op_var41_hace2', 0.0033162009073198005],\n",
       "       ['num_op_var39_comer_ult3', 0.003352779125392002],\n",
       "       ['num_ent_var16_ult1', 0.0033925443961114136],\n",
       "       ['num_op_var41_ult3', 0.003444273946361617],\n",
       "       ['var3', 0.0034895677048503155],\n",
       "       ['imp_ent_var16_ult1', 0.003537637546580958],\n",
       "       ['imp_op_var41_comer_ult3', 0.003559961547593624],\n",
       "       ['imp_op_var39_comer_ult3', 0.003623504813941476],\n",
       "       ['imp_op_var41_ult1', 0.00367280036078718],\n",
       "       ['imp_op_var39_ult1', 0.0036922829131938654],\n",
       "       ['imp_op_var41_efect_ult3', 0.0038480543444811086],\n",
       "       ['imp_op_var39_efect_ult3', 0.003850067086944645],\n",
       "       ['ind_var5', 0.003928585743811872],\n",
       "       ['num_med_var22_ult3', 0.00618241826173648],\n",
       "       ['ind_var30', 0.006943694354613346],\n",
       "       ['num_meses_var39_vig_ult3', 0.007675085476792273],\n",
       "       ['num_var22_ult1', 0.008332172153529034],\n",
       "       ['var36', 0.008387202441579346],\n",
       "       ['saldo_var5', 0.010146641124718511],\n",
       "       ['num_meses_var5_ult3', 0.010289475734142775],\n",
       "       ['num_var22_hace2', 0.010482204346194825],\n",
       "       ['num_var22_hace3', 0.010934513464212465],\n",
       "       ['saldo_medio_var5_ult1', 0.010957621366059444],\n",
       "       ['saldo_var30', 0.011025665155254803],\n",
       "       ['saldo_var42', 0.01108528745323274],\n",
       "       ['num_med_var45_ult3', 0.012119194810934562],\n",
       "       ['num_var45_ult1', 0.012847263286355132],\n",
       "       ['saldo_medio_var5_hace2', 0.013198010851711045],\n",
       "       ['num_var22_ult3', 0.013422062326101904],\n",
       "       ['num_var45_hace2', 0.016141922672858165],\n",
       "       ['num_var45_hace3', 0.01886445449799467],\n",
       "       ['num_var45_ult3', 0.020569195705789287],\n",
       "       ['saldo_medio_var5_ult3', 0.024282979089814763],\n",
       "       ['saldo_medio_var5_hace3', 0.025490263744545525],\n",
       "       ['var15', 0.15253103288347064],\n",
       "       ['var38', 0.4096024451401731]], dtype=object)"
      ]
     },
     "execution_count": 17,
     "metadata": {},
     "output_type": "execute_result"
    }
   ],
   "source": [
    "importancia = pd.DataFrame({'colunas': x.columns, 'importancia': modelo.feature_importances_})\n",
    "importancia.sort_values(by = 'importancia').values"
   ]
  },
  {
   "cell_type": "code",
   "execution_count": 18,
   "metadata": {},
   "outputs": [
    {
     "data": {
      "text/html": [
       "<div>\n",
       "<style scoped>\n",
       "    .dataframe tbody tr th:only-of-type {\n",
       "        vertical-align: middle;\n",
       "    }\n",
       "\n",
       "    .dataframe tbody tr th {\n",
       "        vertical-align: top;\n",
       "    }\n",
       "\n",
       "    .dataframe thead th {\n",
       "        text-align: right;\n",
       "    }\n",
       "</style>\n",
       "<table border=\"1\" class=\"dataframe\">\n",
       "  <thead>\n",
       "    <tr style=\"text-align: right;\">\n",
       "      <th></th>\n",
       "      <th>colunas</th>\n",
       "      <th>importancia</th>\n",
       "    </tr>\n",
       "  </thead>\n",
       "  <tbody>\n",
       "    <tr>\n",
       "      <th>35</th>\n",
       "      <td>ind_var13_medio</td>\n",
       "      <td>0.0</td>\n",
       "    </tr>\n",
       "    <tr>\n",
       "      <th>42</th>\n",
       "      <td>ind_var18</td>\n",
       "      <td>0.0</td>\n",
       "    </tr>\n",
       "    <tr>\n",
       "      <th>83</th>\n",
       "      <td>num_var6</td>\n",
       "      <td>0.0</td>\n",
       "    </tr>\n",
       "    <tr>\n",
       "      <th>101</th>\n",
       "      <td>num_var18</td>\n",
       "      <td>0.0</td>\n",
       "    </tr>\n",
       "    <tr>\n",
       "      <th>158</th>\n",
       "      <td>saldo_var18</td>\n",
       "      <td>0.0</td>\n",
       "    </tr>\n",
       "    <tr>\n",
       "      <th>168</th>\n",
       "      <td>saldo_var34</td>\n",
       "      <td>0.0</td>\n",
       "    </tr>\n",
       "    <tr>\n",
       "      <th>174</th>\n",
       "      <td>delta_imp_amort_var18_1y3</td>\n",
       "      <td>0.0</td>\n",
       "    </tr>\n",
       "    <tr>\n",
       "      <th>175</th>\n",
       "      <td>delta_imp_amort_var34_1y3</td>\n",
       "      <td>0.0</td>\n",
       "    </tr>\n",
       "    <tr>\n",
       "      <th>182</th>\n",
       "      <td>delta_imp_reemb_var33_1y3</td>\n",
       "      <td>0.0</td>\n",
       "    </tr>\n",
       "    <tr>\n",
       "      <th>184</th>\n",
       "      <td>delta_imp_trasp_var17_out_1y3</td>\n",
       "      <td>0.0</td>\n",
       "    </tr>\n",
       "    <tr>\n",
       "      <th>186</th>\n",
       "      <td>delta_imp_trasp_var33_out_1y3</td>\n",
       "      <td>0.0</td>\n",
       "    </tr>\n",
       "    <tr>\n",
       "      <th>194</th>\n",
       "      <td>delta_num_reemb_var33_1y3</td>\n",
       "      <td>0.0</td>\n",
       "    </tr>\n",
       "    <tr>\n",
       "      <th>198</th>\n",
       "      <td>delta_num_trasp_var33_out_1y3</td>\n",
       "      <td>0.0</td>\n",
       "    </tr>\n",
       "    <tr>\n",
       "      <th>201</th>\n",
       "      <td>imp_amort_var34_ult1</td>\n",
       "      <td>0.0</td>\n",
       "    </tr>\n",
       "    <tr>\n",
       "      <th>207</th>\n",
       "      <td>imp_aport_var33_ult1</td>\n",
       "      <td>0.0</td>\n",
       "    </tr>\n",
       "    <tr>\n",
       "      <th>215</th>\n",
       "      <td>imp_reemb_var33_ult1</td>\n",
       "      <td>0.0</td>\n",
       "    </tr>\n",
       "    <tr>\n",
       "      <th>218</th>\n",
       "      <td>imp_trasp_var17_in_hace3</td>\n",
       "      <td>0.0</td>\n",
       "    </tr>\n",
       "    <tr>\n",
       "      <th>221</th>\n",
       "      <td>imp_trasp_var33_in_hace3</td>\n",
       "      <td>0.0</td>\n",
       "    </tr>\n",
       "    <tr>\n",
       "      <th>222</th>\n",
       "      <td>imp_trasp_var33_in_ult1</td>\n",
       "      <td>0.0</td>\n",
       "    </tr>\n",
       "    <tr>\n",
       "      <th>223</th>\n",
       "      <td>imp_trasp_var33_out_ult1</td>\n",
       "      <td>0.0</td>\n",
       "    </tr>\n",
       "    <tr>\n",
       "      <th>240</th>\n",
       "      <td>num_aport_var33_ult1</td>\n",
       "      <td>0.0</td>\n",
       "    </tr>\n",
       "    <tr>\n",
       "      <th>257</th>\n",
       "      <td>num_meses_var13_medio_ult3</td>\n",
       "      <td>0.0</td>\n",
       "    </tr>\n",
       "    <tr>\n",
       "      <th>278</th>\n",
       "      <td>num_reemb_var33_ult1</td>\n",
       "      <td>0.0</td>\n",
       "    </tr>\n",
       "    <tr>\n",
       "      <th>283</th>\n",
       "      <td>num_trasp_var17_in_hace3</td>\n",
       "      <td>0.0</td>\n",
       "    </tr>\n",
       "    <tr>\n",
       "      <th>287</th>\n",
       "      <td>num_trasp_var33_in_ult1</td>\n",
       "      <td>0.0</td>\n",
       "    </tr>\n",
       "    <tr>\n",
       "      <th>288</th>\n",
       "      <td>num_trasp_var33_out_ult1</td>\n",
       "      <td>0.0</td>\n",
       "    </tr>\n",
       "    <tr>\n",
       "      <th>315</th>\n",
       "      <td>saldo_medio_var13_medio_hace2</td>\n",
       "      <td>0.0</td>\n",
       "    </tr>\n",
       "    <tr>\n",
       "      <th>317</th>\n",
       "      <td>saldo_medio_var13_medio_ult3</td>\n",
       "      <td>0.0</td>\n",
       "    </tr>\n",
       "  </tbody>\n",
       "</table>\n",
       "</div>"
      ],
      "text/plain": [
       "                           colunas  importancia\n",
       "35                 ind_var13_medio          0.0\n",
       "42                       ind_var18          0.0\n",
       "83                        num_var6          0.0\n",
       "101                      num_var18          0.0\n",
       "158                    saldo_var18          0.0\n",
       "168                    saldo_var34          0.0\n",
       "174      delta_imp_amort_var18_1y3          0.0\n",
       "175      delta_imp_amort_var34_1y3          0.0\n",
       "182      delta_imp_reemb_var33_1y3          0.0\n",
       "184  delta_imp_trasp_var17_out_1y3          0.0\n",
       "186  delta_imp_trasp_var33_out_1y3          0.0\n",
       "194      delta_num_reemb_var33_1y3          0.0\n",
       "198  delta_num_trasp_var33_out_1y3          0.0\n",
       "201           imp_amort_var34_ult1          0.0\n",
       "207           imp_aport_var33_ult1          0.0\n",
       "215           imp_reemb_var33_ult1          0.0\n",
       "218       imp_trasp_var17_in_hace3          0.0\n",
       "221       imp_trasp_var33_in_hace3          0.0\n",
       "222        imp_trasp_var33_in_ult1          0.0\n",
       "223       imp_trasp_var33_out_ult1          0.0\n",
       "240           num_aport_var33_ult1          0.0\n",
       "257     num_meses_var13_medio_ult3          0.0\n",
       "278           num_reemb_var33_ult1          0.0\n",
       "283       num_trasp_var17_in_hace3          0.0\n",
       "287        num_trasp_var33_in_ult1          0.0\n",
       "288       num_trasp_var33_out_ult1          0.0\n",
       "315  saldo_medio_var13_medio_hace2          0.0\n",
       "317   saldo_medio_var13_medio_ult3          0.0"
      ]
     },
     "execution_count": 18,
     "metadata": {},
     "output_type": "execute_result"
    }
   ],
   "source": [
    "importancia.loc[importancia.importancia == 0]"
   ]
  },
  {
   "cell_type": "code",
   "execution_count": 19,
   "metadata": {},
   "outputs": [],
   "source": [
    "remove_colunas = importancia.loc[importancia.importancia == 0].colunas"
   ]
  },
  {
   "cell_type": "code",
   "execution_count": 20,
   "metadata": {},
   "outputs": [],
   "source": [
    "#As variaveis classificadas com importancia igual a 0 serao removidas do dataset\n",
    "data_sd.drop(columns = remove_colunas, inplace = True)"
   ]
  },
  {
   "cell_type": "markdown",
   "metadata": {},
   "source": [
    "## Undersampling"
   ]
  },
  {
   "cell_type": "markdown",
   "metadata": {},
   "source": [
    "Para equalizar as classes sera utilizado NearMiss que é um algoritmo de undersampling que consiste em reduzir de forma aleatória os exemplos da classe majoritária selecionando os exemplos com base na distância."
   ]
  },
  {
   "cell_type": "code",
   "execution_count": 21,
   "metadata": {},
   "outputs": [],
   "source": [
    "nearm = NearMiss()"
   ]
  },
  {
   "cell_type": "code",
   "execution_count": 22,
   "metadata": {},
   "outputs": [],
   "source": [
    "x_under, y_under = nearm.fit_resample(x,y)"
   ]
  },
  {
   "cell_type": "code",
   "execution_count": 23,
   "metadata": {},
   "outputs": [
    {
     "name": "stdout",
     "output_type": "stream",
     "text": [
      "Shape de x: (5630, 335) ; Shape de y: (5630,).\n"
     ]
    }
   ],
   "source": [
    "print('Shape de x: {} ; Shape de y: {}.'.format(x_under.shape, y_under.shape))"
   ]
  },
  {
   "cell_type": "code",
   "execution_count": 24,
   "metadata": {},
   "outputs": [
    {
     "data": {
      "text/plain": [
       "1    2815\n",
       "0    2815\n",
       "Name: TARGET, dtype: int64"
      ]
     },
     "execution_count": 24,
     "metadata": {},
     "output_type": "execute_result"
    }
   ],
   "source": [
    "y_under.value_counts()"
   ]
  },
  {
   "cell_type": "markdown",
   "metadata": {},
   "source": [
    "## Oversampling"
   ]
  },
  {
   "cell_type": "markdown",
   "metadata": {},
   "source": [
    "Para equalizar as classes sera utilizado SMOTE que é um algoritmo de oversampling que consiste em aumentar  a quantidade de registros através da distancia entre as classes."
   ]
  },
  {
   "cell_type": "code",
   "execution_count": 25,
   "metadata": {},
   "outputs": [
    {
     "name": "stdout",
     "output_type": "stream",
     "text": [
      "Shape de x: (136796, 335) ; Shape de y: (136796,).\n"
     ]
    }
   ],
   "source": [
    "smote = SMOTE()\n",
    "x,y = smote.fit_resample(x,y)\n",
    "print('Shape de x: {} ; Shape de y: {}.'.format(x.shape, y.shape))"
   ]
  },
  {
   "cell_type": "code",
   "execution_count": 26,
   "metadata": {},
   "outputs": [
    {
     "data": {
      "text/plain": [
       "1    68398\n",
       "0    68398\n",
       "Name: TARGET, dtype: int64"
      ]
     },
     "execution_count": 26,
     "metadata": {},
     "output_type": "execute_result"
    }
   ],
   "source": [
    "y.value_counts()"
   ]
  },
  {
   "cell_type": "code",
   "execution_count": 27,
   "metadata": {},
   "outputs": [],
   "source": [
    "#Separa os dados em teste e treino\n",
    "teste_size = 0.3\n",
    "seed = 7\n",
    "\n",
    "X_train, X_test, Y_train, Y_test = train_test_split(x, y, test_size = teste_size, random_state = seed)"
   ]
  },
  {
   "cell_type": "code",
   "execution_count": 28,
   "metadata": {},
   "outputs": [
    {
     "data": {
      "text/plain": [
       "(95757, 335)"
      ]
     },
     "execution_count": 28,
     "metadata": {},
     "output_type": "execute_result"
    }
   ],
   "source": [
    "X_train.shape"
   ]
  },
  {
   "cell_type": "code",
   "execution_count": 29,
   "metadata": {},
   "outputs": [
    {
     "data": {
      "text/plain": [
       "(41039, 335)"
      ]
     },
     "execution_count": 29,
     "metadata": {},
     "output_type": "execute_result"
    }
   ],
   "source": [
    "X_test.shape"
   ]
  },
  {
   "cell_type": "markdown",
   "metadata": {},
   "source": [
    "## Normalização dos dados"
   ]
  },
  {
   "cell_type": "code",
   "execution_count": 30,
   "metadata": {},
   "outputs": [
    {
     "data": {
      "text/plain": [
       "array([[9.99764056e-01, 2.22222222e-01, 0.00000000e+00, ...,\n",
       "        0.00000000e+00, 0.00000000e+00, 1.80076567e-03],\n",
       "       [9.99764056e-01, 1.81818182e-01, 0.00000000e+00, ...,\n",
       "        0.00000000e+00, 0.00000000e+00, 3.21611243e-03],\n",
       "       [9.99764056e-01, 2.22222222e-01, 0.00000000e+00, ...,\n",
       "        0.00000000e+00, 0.00000000e+00, 3.90630234e-03],\n",
       "       ...,\n",
       "       [9.99772054e-01, 2.62626263e-01, 5.71428571e-04, ...,\n",
       "        0.00000000e+00, 0.00000000e+00, 5.09075772e-03],\n",
       "       [9.99764056e-01, 2.22222222e-01, 0.00000000e+00, ...,\n",
       "        0.00000000e+00, 0.00000000e+00, 5.09075772e-03],\n",
       "       [9.99764056e-01, 3.13131313e-01, 0.00000000e+00, ...,\n",
       "        0.00000000e+00, 0.00000000e+00, 3.28755548e-03]])"
      ]
     },
     "execution_count": 30,
     "metadata": {},
     "output_type": "execute_result"
    }
   ],
   "source": [
    "#Normaliza os dados com MinMaxScaler() numa escal de 0 a 1\n",
    "scaler = MinMaxScaler(feature_range = (0, 1))\n",
    "rescaledX = scaler.fit_transform(X_train)\n",
    "rescaledX"
   ]
  },
  {
   "cell_type": "markdown",
   "metadata": {},
   "source": [
    "## Reducao de dimensionalidade"
   ]
  },
  {
   "cell_type": "code",
   "execution_count": 31,
   "metadata": {},
   "outputs": [
    {
     "name": "stdout",
     "output_type": "stream",
     "text": [
      "Variância: [0.33788848 0.1685775  0.11975345 0.06764989 0.05860233]\n"
     ]
    },
    {
     "data": {
      "text/plain": [
       "array([[ 4.07452304e-04, -7.55395707e-03,  3.93875524e-04, ...,\n",
       "         9.40512480e-05,  1.24581320e-04,  2.44208467e-04],\n",
       "       [ 3.11224802e-04,  3.33268741e-02,  2.39843783e-04, ...,\n",
       "         6.94457362e-05,  9.54817055e-05, -7.98683974e-05],\n",
       "       [-1.20087697e-03, -2.26304115e-03,  7.63744462e-05, ...,\n",
       "         2.58563766e-05,  3.63003456e-05, -1.46300926e-04],\n",
       "       [ 1.06487560e-05,  6.28427032e-02,  8.05066298e-04, ...,\n",
       "         7.07772746e-05,  1.12849709e-04,  4.80958204e-04],\n",
       "       [-1.00228063e-06,  6.23231675e-02,  1.05659858e-03, ...,\n",
       "         1.51398536e-05,  4.14991788e-05,  5.20221043e-04]])"
      ]
     },
     "execution_count": 31,
     "metadata": {},
     "output_type": "execute_result"
    }
   ],
   "source": [
    "pca = PCA(n_components = 5)\n",
    "fit = pca.fit(rescaledX)\n",
    "\n",
    "# Sumarizando os componentes\n",
    "print(\"Variância: %s\" % fit.explained_variance_ratio_)\n",
    "fit.components_"
   ]
  },
  {
   "cell_type": "code",
   "execution_count": 32,
   "metadata": {},
   "outputs": [
    {
     "data": {
      "text/plain": [
       "array([[-1.31075319, -0.01467696,  0.71209861, -0.01823173,  0.07350446],\n",
       "       [ 0.79391556, -0.42101416,  0.01396828, -0.02436969, -0.21405883],\n",
       "       [-0.52354956,  0.02011939, -0.40634219, -0.01309879,  0.03633183],\n",
       "       ...,\n",
       "       [ 1.06354208, -0.36591941, -0.05462536, -0.00412114, -0.14205388],\n",
       "       [ 0.53698423, -0.48373502, -0.07218683, -0.33014663, -0.23315489],\n",
       "       [ 0.95636645, -0.47600869, -0.06363856, -0.06029461, -0.2172549 ]])"
      ]
     },
     "execution_count": 32,
     "metadata": {},
     "output_type": "execute_result"
    }
   ],
   "source": [
    "#Aplica PCA aos dados\n",
    "x_pca = pca.transform(rescaledX)\n",
    "x_pca"
   ]
  },
  {
   "cell_type": "markdown",
   "metadata": {},
   "source": [
    "## Selecao do modelo utilizando Cross Validation"
   ]
  },
  {
   "cell_type": "code",
   "execution_count": 33,
   "metadata": {},
   "outputs": [
    {
     "name": "stdout",
     "output_type": "stream",
     "text": [
      "LR\n",
      "accuracy: 0.7548169695343667,  precision: 0.7491909861742907, recall: 0.7656957051094606, f1: 0.7573343852489371, roc_auc: 0.7614973668394046 \n",
      "\n",
      "LDA\n",
      "accuracy: 0.7537099853637574,  precision: 0.7473183590483815, recall: 0.7662178729833863, f1: 0.756632723105649, roc_auc: 0.7794567024330562 \n",
      "\n",
      "NB\n",
      "accuracy: 0.731852542583613,  precision: 0.7185415496273698, recall: 0.7618305123432838, f1: 0.739537619741728, roc_auc: 0.7775773536001622 \n",
      "\n",
      "KNN\n",
      "accuracy: 0.8826404435806662,  precision: 0.8703980045311906, recall: 0.8990072989680918, f1: 0.8844660723825859, roc_auc: 0.9443435130171961 \n",
      "\n",
      "CART\n",
      "accuracy: 0.8766983167230521,  precision: 0.8713050493926836, recall: 0.8838352043337674, f1: 0.8775103357562639, roc_auc: 0.8925287998362974 \n",
      "\n",
      "XGB\n",
      "accuracy: 0.8687824129514388,  precision: 0.8653002131194386, recall: 0.8733971561251759, f1: 0.8693191772824482, roc_auc: 0.943995613143666 \n",
      "\n"
     ]
    }
   ],
   "source": [
    "# numero de folds\n",
    "num_folds = 10\n",
    "\n",
    "# Modelos que serao testados\n",
    "modelos = []\n",
    "modelos.append(('LR', LogisticRegression()))\n",
    "modelos.append(('LDA', LinearDiscriminantAnalysis()))\n",
    "modelos.append(('NB', GaussianNB()))\n",
    "modelos.append(('KNN', KNeighborsClassifier()))\n",
    "modelos.append(('CART', DecisionTreeClassifier()))\n",
    "modelos.append(('XGB', XGBClassifier(verbosity = 0)))\n",
    "\n",
    "# Variaveis para armazenar o resultado\n",
    "resultados = []\n",
    "nomes = []\n",
    "\n",
    "#Encontra os resultados de cada modelo\n",
    "for nome, modelo in modelos:\n",
    "    kfold = KFold(n_splits = num_folds)\n",
    "    cv_results = cross_validate(modelo, x_pca, Y_train, \n",
    "                                cv = kfold, scoring = ['accuracy', 'precision', 'recall', 'f1','roc_auc'])\n",
    "    resultados.append(cv_results)\n",
    "    nomes.append(nome)\n",
    "    msg = \"accuracy: {},  precision: {}, recall: {}, f1: {}, roc_auc: {} \\n\".format(cv_results['test_accuracy'].mean(),\n",
    "                                                                                    cv_results['test_precision'].mean(),\n",
    "                                                                                    cv_results['test_recall'].mean(),\n",
    "                                                                                    cv_results['test_f1'].mean(),\n",
    "                                                                                    cv_results['test_roc_auc'].mean())\n",
    "    print(nome)\n",
    "    print(msg)"
   ]
  },
  {
   "cell_type": "markdown",
   "metadata": {},
   "source": [
    "Os modelos que apresentaram melhor performance foram o KNN, Decision Tree e XGBoost"
   ]
  },
  {
   "cell_type": "code",
   "execution_count": 34,
   "metadata": {},
   "outputs": [],
   "source": [
    "resul_df = pd.DataFrame(resultados)"
   ]
  },
  {
   "cell_type": "code",
   "execution_count": 35,
   "metadata": {},
   "outputs": [
    {
     "data": {
      "image/png": "[encoded data removed]",
      "text/plain": [
       "<Figure size 432x288 with 1 Axes>"
      ]
     },
     "metadata": {
      "needs_background": "light"
     },
     "output_type": "display_data"
    }
   ],
   "source": [
    "#Verifica com boxplot a acuracia das previsoes\n",
    "fig = plt.figure()\n",
    "fig.suptitle('Comparação de Algoritmos de Classificação - Accuracy')\n",
    "ax = fig.add_subplot(111)\n",
    "plt.boxplot(resul_df.test_accuracy)\n",
    "ax.set_xticklabels(nomes)\n",
    "plt.show()"
   ]
  },
  {
   "cell_type": "code",
   "execution_count": 36,
   "metadata": {},
   "outputs": [
    {
     "data": {
      "image/png": "[encoded data removed]",
      "text/plain": [
       "<Figure size 432x288 with 1 Axes>"
      ]
     },
     "metadata": {
      "needs_background": "light"
     },
     "output_type": "display_data"
    }
   ],
   "source": [
    "#Verifica com boxplot a acuracia das previsoes\n",
    "fig = plt.figure()\n",
    "fig.suptitle('Comparação de Algoritmos de Classificação - F1')\n",
    "ax = fig.add_subplot(111)\n",
    "plt.boxplot(resul_df.test_f1)\n",
    "ax.set_xticklabels(nomes)\n",
    "plt.show()"
   ]
  },
  {
   "cell_type": "code",
   "execution_count": 37,
   "metadata": {},
   "outputs": [
    {
     "data": {
      "image/png": "[encoded data removed]",
      "text/plain": [
       "<Figure size 432x288 with 1 Axes>"
      ]
     },
     "metadata": {
      "needs_background": "light"
     },
     "output_type": "display_data"
    }
   ],
   "source": [
    "#Verifica com boxplot a acuracia das previsoes\n",
    "fig = plt.figure()\n",
    "fig.suptitle('Comparação de Algoritmos de Classificação - ROC AUC')\n",
    "ax = fig.add_subplot(111)\n",
    "plt.boxplot(resul_df.test_roc_auc)\n",
    "ax.set_xticklabels(nomes)\n",
    "plt.show()"
   ]
  },
  {
   "cell_type": "markdown",
   "metadata": {},
   "source": [
    "## Ajuste de Hyperparametros"
   ]
  },
  {
   "cell_type": "code",
   "execution_count": 38,
   "metadata": {},
   "outputs": [
    {
     "name": "stdout",
     "output_type": "stream",
     "text": [
      "Fitting 5 folds for each of 16 candidates, totalling 80 fits\n",
      "Acurácia: 89.616\n",
      "Melhores Parâmetros do Modelo:\n",
      " KNeighborsClassifier(metric='euclidean', n_neighbors=11, weights='distance')\n"
     ]
    }
   ],
   "source": [
    "#Utiliza Grid Search Parameter Tuning para a selecao - KNN\n",
    "valores_test = dict(\n",
    "    n_neighbors = [3, 5, 11, 19],\n",
    "    weights = ['uniform', 'distance'],\n",
    "    metric = ['euclidean', 'manhattan']\n",
    ")\n",
    "\n",
    "modelo_knn = KNeighborsClassifier()\n",
    "\n",
    "# Criando o grid\n",
    "grid_knn = GridSearchCV(estimator = modelo_knn, param_grid = valores_test, verbose = True, n_jobs = -1)\n",
    "grid_knn.fit(x_pca, Y_train)\n",
    "\n",
    "# Print do resultado\n",
    "print(\"Acurácia: %.3f\" % (grid_knn.best_score_ * 100))\n",
    "print(\"Melhores Parâmetros do Modelo:\\n\", grid_knn.best_estimator_)"
   ]
  },
  {
   "cell_type": "code",
   "execution_count": 39,
   "metadata": {},
   "outputs": [
    {
     "name": "stdout",
     "output_type": "stream",
     "text": [
      "Fitting 5 folds for each of 18 candidates, totalling 90 fits\n",
      "Acurácia: 84.546\n",
      "Melhores Parâmetros do Modelo:\n",
      " DecisionTreeClassifier(criterion='entropy', max_depth=9)\n"
     ]
    }
   ],
   "source": [
    "#Utiliza Grid Search Parameter Tuning para a selecao - Decison Tree Classifier\n",
    "valores_test = dict(\n",
    "    criterion = ['gini', 'entropy'],\n",
    "    max_depth = range(1,10)\n",
    ")\n",
    "\n",
    "modelo_cart = DecisionTreeClassifier()\n",
    "\n",
    "# Criando o grid\n",
    "grid_cart = GridSearchCV(estimator = modelo_cart, param_grid = valores_test, verbose = True, n_jobs = -1)\n",
    "grid_cart.fit(x_pca, Y_train)\n",
    "\n",
    "# Print do resultado\n",
    "print(\"Acurácia: %.3f\" % (grid_cart.best_score_ * 100))\n",
    "print(\"Melhores Parâmetros do Modelo:\\n\", grid_cart.best_estimator_)"
   ]
  },
  {
   "cell_type": "code",
   "execution_count": 41,
   "metadata": {},
   "outputs": [
    {
     "name": "stdout",
     "output_type": "stream",
     "text": [
      "Fitting 5 folds for each of 18 candidates, totalling 90 fits\n",
      "Acurácia: 85.478\n",
      "Melhores Parâmetros do Modelo:\n",
      " XGBClassifier(base_score=0.5, booster='gbtree', colsample_bylevel=1,\n",
      "              colsample_bynode=1, colsample_bytree=0.85, gamma=0, gpu_id=-1,\n",
      "              importance_type='gain', interaction_constraints='',\n",
      "              learning_rate=0.03, max_delta_step=0, max_depth=6,\n",
      "              min_child_weight=1, missing=nan, monotone_constraints='()',\n",
      "              n_estimators=360, n_jobs=4, nthread=4, num_parallel_tree=1,\n",
      "              random_state=100, reg_alpha=0, reg_lambda=1, scale_pos_weight=1,\n",
      "              seed=100, subsample=0.95, tree_method='exact',\n",
      "              validate_parameters=1, verbosity=None)\n"
     ]
    }
   ],
   "source": [
    "#Utiliza Grid Search Parameter Tuning para a selecao - XGBoost\n",
    "valores_test = dict (\n",
    "    missing          = [np.nan],\n",
    "    max_depth        = [4, 5, 6], \n",
    "    n_estimators     = [340, 350, 360], \n",
    "    learning_rate    = [0.03], \n",
    "    nthread          = [4], \n",
    "    subsample        = [0.94, 0.95], \n",
    "    colsample_bytree = [0.85], \n",
    "    seed             = [100]\n",
    ")\n",
    "\n",
    "modelo_xgb = XGBClassifier()\n",
    "\n",
    "# Criando o grid\n",
    "grid_xgb = GridSearchCV(estimator = modelo_xgb, param_grid = valores_test, verbose = True, n_jobs = -1)\n",
    "grid_xgb.fit(x_pca, Y_train)\n",
    "\n",
    "# Print do resultado\n",
    "print(\"Acurácia: %.3f\" % (grid_xgb.best_score_ * 100))\n",
    "print(\"Melhores Parâmetros do Modelo:\\n\", grid_xgb.best_estimator_)"
   ]
  },
  {
   "cell_type": "markdown",
   "metadata": {},
   "source": [
    "O KNN obteve melhor desempenho, ela será utilizado."
   ]
  },
  {
   "cell_type": "markdown",
   "metadata": {},
   "source": [
    "## Teste do modelo em uma pipeline"
   ]
  },
  {
   "cell_type": "code",
   "execution_count": 42,
   "metadata": {},
   "outputs": [
    {
     "data": {
      "text/plain": [
       "KNeighborsClassifier(metric='euclidean', n_neighbors=11, weights='distance')"
      ]
     },
     "execution_count": 42,
     "metadata": {},
     "output_type": "execute_result"
    }
   ],
   "source": [
    "#scaler = MinMaxScaler(feature_range = (0, 1))\n",
    "modelo = grid_knn.best_estimator_\n",
    "modelo.fit(x_pca, Y_train)"
   ]
  },
  {
   "cell_type": "code",
   "execution_count": 43,
   "metadata": {},
   "outputs": [],
   "source": [
    "pipe = Pipeline([('scaler', scaler), ('pca', pca),('knn', modelo)] )"
   ]
  },
  {
   "cell_type": "code",
   "execution_count": 44,
   "metadata": {},
   "outputs": [],
   "source": [
    "predict = pipe.predict(X_test)"
   ]
  },
  {
   "cell_type": "code",
   "execution_count": 45,
   "metadata": {},
   "outputs": [
    {
     "name": "stdout",
     "output_type": "stream",
     "text": [
      "[[17955  2539]\n",
      " [ 1480 19065]]\n",
      "              precision    recall  f1-score   support\n",
      "\n",
      "           0       0.92      0.88      0.90     20494\n",
      "           1       0.88      0.93      0.90     20545\n",
      "\n",
      "    accuracy                           0.90     41039\n",
      "   macro avg       0.90      0.90      0.90     41039\n",
      "weighted avg       0.90      0.90      0.90     41039\n",
      "\n"
     ]
    }
   ],
   "source": [
    "print(confusion_matrix(Y_test, predict))\n",
    "print(classification_report(Y_test, predict))"
   ]
  },
  {
   "cell_type": "markdown",
   "metadata": {},
   "source": [
    "Obtivemos 90% de acurácia com os dados de teste."
   ]
  },
  {
   "cell_type": "markdown",
   "metadata": {},
   "source": [
    "## Salvando o resultado "
   ]
  },
  {
   "cell_type": "code",
   "execution_count": 46,
   "metadata": {},
   "outputs": [
    {
     "name": "stdout",
     "output_type": "stream",
     "text": [
      "Modelo salvo!\n"
     ]
    }
   ],
   "source": [
    "arquivo = 'modelo_classificador_final.sav'\n",
    "pickle.dump(pipe, open(arquivo, 'wb'))\n",
    "print(\"Modelo salvo!\")"
   ]
  },
  {
   "cell_type": "code",
   "execution_count": 47,
   "metadata": {},
   "outputs": [
    {
     "name": "stdout",
     "output_type": "stream",
     "text": [
      "              precision    recall  f1-score   support\n",
      "\n",
      "           0       0.92      0.88      0.90     20494\n",
      "           1       0.88      0.93      0.90     20545\n",
      "\n",
      "    accuracy                           0.90     41039\n",
      "   macro avg       0.90      0.90      0.90     41039\n",
      "weighted avg       0.90      0.90      0.90     41039\n",
      "\n",
      "Modelo carregado!\n"
     ]
    }
   ],
   "source": [
    "modelo_classificador_final = pickle.load(open(arquivo, 'rb'))\n",
    "modelo_prod = modelo_classificador_final.predict(X_test)\n",
    "print(classification_report(Y_test, modelo_prod))\n",
    "print(\"Modelo carregado!\")"
   ]
  },
  {
   "cell_type": "code",
   "execution_count": null,
   "metadata": {},
   "outputs": [],
   "source": []
  }
 ],
 "metadata": {
  "kernelspec": {
   "display_name": "Python 3",
   "language": "python",
   "name": "python3"
  },
  "language_info": {
   "codemirror_mode": {
    "name": "ipython",
    "version": 3
   },
   "file_extension": ".py",
   "mimetype": "text/x-python",
   "name": "python",
   "nbconvert_exporter": "python",
   "pygments_lexer": "ipython3",
   "version": "3.7.3"
  }
 },
 "nbformat": 4,
 "nbformat_minor": 2
}
